{
  "nbformat": 4,
  "nbformat_minor": 0,
  "metadata": {
    "colab": {
      "name": "Untitled0.ipynb",
      "version": "0.3.2",
      "provenance": []
    },
    "kernelspec": {
      "name": "python3",
      "display_name": "Python 3"
    },
    "accelerator": "GPU"
  },
  "cells": [
    {
      "cell_type": "markdown",
      "metadata": {
        "id": "view-in-github",
        "colab_type": "text"
      },
      "source": [
        "[View in Colaboratory](https://colab.research.google.com/github/upadhyayprakash/EIP/blob/master/4B_4_Try_79_48_137794.ipynb)"
      ]
    },
    {
      "metadata": {
        "id": "nwhnUuSn2lO6",
        "colab_type": "code",
        "colab": {}
      },
      "cell_type": "code",
      "source": [
        "# https://keras.io/\n",
        "!pip install -q keras\n",
        "import keras"
      ],
      "execution_count": 0,
      "outputs": []
    },
    {
      "metadata": {
        "id": "Aki0lgYdQGLv",
        "colab_type": "code",
        "colab": {}
      },
      "cell_type": "code",
      "source": [
        "import keras\n",
        "from keras.datasets import cifar10\n",
        "from keras.models import Model, Sequential\n",
        "from keras.layers import Dense, Dropout, Flatten, Input, AveragePooling2D, merge, Activation\n",
        "from keras.layers import Conv2D, MaxPooling2D, BatchNormalization\n",
        "from keras.layers import Concatenate\n",
        "from keras.optimizers import Adam"
      ],
      "execution_count": 0,
      "outputs": []
    },
    {
      "metadata": {
        "id": "-Nxox-t0QMUt",
        "colab_type": "code",
        "colab": {}
      },
      "cell_type": "code",
      "source": [
        "# this part will prevent tensorflow to allocate all the avaliable GPU Memory\n",
        "# backend\n",
        "import tensorflow as tf\n",
        "from keras import backend as k\n",
        "\n",
        "# Don't pre-allocate memory; allocate as-needed\n",
        "config = tf.ConfigProto()\n",
        "config.gpu_options.allow_growth = True\n",
        "\n",
        "# Create a session with the above options specified.\n",
        "k.tensorflow_backend.set_session(tf.Session(config=config))"
      ],
      "execution_count": 0,
      "outputs": []
    },
    {
      "metadata": {
        "id": "10YcV8GPQN0E",
        "colab_type": "code",
        "colab": {}
      },
      "cell_type": "code",
      "source": [
        "# Hyperparameters\n",
        "batch_size = 128\n",
        "num_classes = 10\n",
        "epochs = 50\n",
        "l = 40\n",
        "num_filter = 12\n",
        "compression = 0.5\n",
        "dropout_rate = 0.2"
      ],
      "execution_count": 0,
      "outputs": []
    },
    {
      "metadata": {
        "id": "lbWOGGqnQPcj",
        "colab_type": "code",
        "colab": {}
      },
      "cell_type": "code",
      "source": [
        "# Load CIFAR10 Data\n",
        "(x_train, y_train), (x_test, y_test) = cifar10.load_data()\n",
        "img_height, img_width, channel = x_train.shape[1],x_train.shape[2],x_train.shape[3]\n",
        "\n",
        "# Added by Prakash\n",
        "#x_train = x_train.astype('float32')\n",
        "#x_test = x_test.astype('float32')\n",
        "#x_train /= 255\n",
        "#x_test /= 255\n",
        "\n",
        "# convert to one hot encoing \n",
        "y_train = keras.utils.to_categorical(y_train, num_classes)\n",
        "y_test = keras.utils.to_categorical(y_test, num_classes)"
      ],
      "execution_count": 0,
      "outputs": []
    },
    {
      "metadata": {
        "id": "rpm3sexhQSFS",
        "colab_type": "code",
        "colab": {}
      },
      "cell_type": "code",
      "source": [
        "# Dense Block\n",
        "def add_denseblock(input, num_filter = 12, dropout_rate = 0.2):\n",
        "    global compression\n",
        "    temp = input\n",
        "    for _ in range(l):\n",
        "        BatchNorm = BatchNormalization()(temp)\n",
        "        relu = Activation('relu')(BatchNorm)\n",
        "        Conv2D_3_3 = Conv2D(int(num_filter*compression), (3,3), use_bias=False ,padding='same')(relu)\n",
        "        if dropout_rate>0:\n",
        "          Conv2D_3_3 = Dropout(dropout_rate)(Conv2D_3_3)\n",
        "        concat = Concatenate(axis=-1)([temp,Conv2D_3_3])\n",
        "        \n",
        "        temp = concat\n",
        "        \n",
        "    return temp"
      ],
      "execution_count": 0,
      "outputs": []
    },
    {
      "metadata": {
        "id": "DH9tvti-QcPW",
        "colab_type": "code",
        "colab": {}
      },
      "cell_type": "code",
      "source": [
        "def add_transition(input, num_filter = 12, dropout_rate = 0.2):\n",
        "    global compression\n",
        "    BatchNorm = BatchNormalization()(input)\n",
        "    relu = Activation('relu')(BatchNorm)\n",
        "    Conv2D_BottleNeck = Conv2D(int(num_filter*compression), (1,1), use_bias=False ,padding='same')(relu)\n",
        "    if dropout_rate>0:\n",
        "      Conv2D_BottleNeck = Dropout(dropout_rate)(Conv2D_BottleNeck)\n",
        "    avg = AveragePooling2D(pool_size=(2,2))(Conv2D_BottleNeck)\n",
        "    \n",
        "    return avg"
      ],
      "execution_count": 0,
      "outputs": []
    },
    {
      "metadata": {
        "id": "zFwKYsIZQe3r",
        "colab_type": "code",
        "colab": {}
      },
      "cell_type": "code",
      "source": [
        "def output_layer(input):\n",
        "    global compression\n",
        "    BatchNorm = BatchNormalization()(input)\n",
        "    relu = Activation('relu')(BatchNorm)\n",
        "    #AvgPooling = AveragePooling2D(pool_size=(2,2))(relu)\n",
        "    #flat = Flatten()(AvgPooling)\n",
        "    flat = Flatten()(relu)\n",
        "    output = Dense(num_classes, activation='softmax')(flat)\n",
        "    \n",
        "    return output"
      ],
      "execution_count": 0,
      "outputs": []
    },
    {
      "metadata": {
        "id": "HfLKCyRZQgrm",
        "colab_type": "code",
        "colab": {}
      },
      "cell_type": "code",
      "source": [
        "num_filter = 12\n",
        "dropout_rate = 0.2\n",
        "l = 12\n",
        "input = Input(shape=(img_height, img_width, channel,))\n",
        "First_Conv2D = Conv2D(num_filter, (3,3), use_bias=False ,padding='same')(input)\n",
        "\n",
        "First_Block = add_denseblock(First_Conv2D, num_filter, dropout_rate)\n",
        "First_Transition = add_transition(First_Block, num_filter, dropout_rate)\n",
        "\n",
        "Second_Block = add_denseblock(First_Transition, num_filter, dropout_rate)\n",
        "Second_Transition = add_transition(Second_Block, num_filter, dropout_rate)\n",
        "\n",
        "Third_Block = add_denseblock(Second_Transition, num_filter, dropout_rate)\n",
        "#Third_Transition = add_transition(Third_Block, num_filter, dropout_rate)\n",
        "\n",
        "#Last_Block = add_denseblock(Third_Transition,  num_filter, dropout_rate)\n",
        "#Last_Block = add_denseblock(Third_Block,  num_filter, dropout_rate)\n",
        "\n",
        "output = output_layer(Third_Block)"
      ],
      "execution_count": 0,
      "outputs": []
    },
    {
      "metadata": {
        "id": "eSp12nIXQjQ7",
        "colab_type": "code",
        "colab": {
          "base_uri": "https://localhost:8080/",
          "height": 7926
        },
        "outputId": "cdb547a9-5264-4bfc-83b9-31c897ffb60a"
      },
      "cell_type": "code",
      "source": [
        "model = Model(inputs=[input], outputs=[output])\n",
        "model.summary()"
      ],
      "execution_count": 30,
      "outputs": [
        {
          "output_type": "stream",
          "text": [
            "__________________________________________________________________________________________________\n",
            "Layer (type)                    Output Shape         Param #     Connected to                     \n",
            "==================================================================================================\n",
            "input_3 (InputLayer)            (None, 32, 32, 3)    0                                            \n",
            "__________________________________________________________________________________________________\n",
            "conv2d_79 (Conv2D)              (None, 32, 32, 12)   324         input_3[0][0]                    \n",
            "__________________________________________________________________________________________________\n",
            "batch_normalization_79 (BatchNo (None, 32, 32, 12)   48          conv2d_79[0][0]                  \n",
            "__________________________________________________________________________________________________\n",
            "activation_79 (Activation)      (None, 32, 32, 12)   0           batch_normalization_79[0][0]     \n",
            "__________________________________________________________________________________________________\n",
            "conv2d_80 (Conv2D)              (None, 32, 32, 6)    648         activation_79[0][0]              \n",
            "__________________________________________________________________________________________________\n",
            "dropout_77 (Dropout)            (None, 32, 32, 6)    0           conv2d_80[0][0]                  \n",
            "__________________________________________________________________________________________________\n",
            "concatenate_73 (Concatenate)    (None, 32, 32, 18)   0           conv2d_79[0][0]                  \n",
            "                                                                 dropout_77[0][0]                 \n",
            "__________________________________________________________________________________________________\n",
            "batch_normalization_80 (BatchNo (None, 32, 32, 18)   72          concatenate_73[0][0]             \n",
            "__________________________________________________________________________________________________\n",
            "activation_80 (Activation)      (None, 32, 32, 18)   0           batch_normalization_80[0][0]     \n",
            "__________________________________________________________________________________________________\n",
            "conv2d_81 (Conv2D)              (None, 32, 32, 6)    972         activation_80[0][0]              \n",
            "__________________________________________________________________________________________________\n",
            "dropout_78 (Dropout)            (None, 32, 32, 6)    0           conv2d_81[0][0]                  \n",
            "__________________________________________________________________________________________________\n",
            "concatenate_74 (Concatenate)    (None, 32, 32, 24)   0           concatenate_73[0][0]             \n",
            "                                                                 dropout_78[0][0]                 \n",
            "__________________________________________________________________________________________________\n",
            "batch_normalization_81 (BatchNo (None, 32, 32, 24)   96          concatenate_74[0][0]             \n",
            "__________________________________________________________________________________________________\n",
            "activation_81 (Activation)      (None, 32, 32, 24)   0           batch_normalization_81[0][0]     \n",
            "__________________________________________________________________________________________________\n",
            "conv2d_82 (Conv2D)              (None, 32, 32, 6)    1296        activation_81[0][0]              \n",
            "__________________________________________________________________________________________________\n",
            "dropout_79 (Dropout)            (None, 32, 32, 6)    0           conv2d_82[0][0]                  \n",
            "__________________________________________________________________________________________________\n",
            "concatenate_75 (Concatenate)    (None, 32, 32, 30)   0           concatenate_74[0][0]             \n",
            "                                                                 dropout_79[0][0]                 \n",
            "__________________________________________________________________________________________________\n",
            "batch_normalization_82 (BatchNo (None, 32, 32, 30)   120         concatenate_75[0][0]             \n",
            "__________________________________________________________________________________________________\n",
            "activation_82 (Activation)      (None, 32, 32, 30)   0           batch_normalization_82[0][0]     \n",
            "__________________________________________________________________________________________________\n",
            "conv2d_83 (Conv2D)              (None, 32, 32, 6)    1620        activation_82[0][0]              \n",
            "__________________________________________________________________________________________________\n",
            "dropout_80 (Dropout)            (None, 32, 32, 6)    0           conv2d_83[0][0]                  \n",
            "__________________________________________________________________________________________________\n",
            "concatenate_76 (Concatenate)    (None, 32, 32, 36)   0           concatenate_75[0][0]             \n",
            "                                                                 dropout_80[0][0]                 \n",
            "__________________________________________________________________________________________________\n",
            "batch_normalization_83 (BatchNo (None, 32, 32, 36)   144         concatenate_76[0][0]             \n",
            "__________________________________________________________________________________________________\n",
            "activation_83 (Activation)      (None, 32, 32, 36)   0           batch_normalization_83[0][0]     \n",
            "__________________________________________________________________________________________________\n",
            "conv2d_84 (Conv2D)              (None, 32, 32, 6)    1944        activation_83[0][0]              \n",
            "__________________________________________________________________________________________________\n",
            "dropout_81 (Dropout)            (None, 32, 32, 6)    0           conv2d_84[0][0]                  \n",
            "__________________________________________________________________________________________________\n",
            "concatenate_77 (Concatenate)    (None, 32, 32, 42)   0           concatenate_76[0][0]             \n",
            "                                                                 dropout_81[0][0]                 \n",
            "__________________________________________________________________________________________________\n",
            "batch_normalization_84 (BatchNo (None, 32, 32, 42)   168         concatenate_77[0][0]             \n",
            "__________________________________________________________________________________________________\n",
            "activation_84 (Activation)      (None, 32, 32, 42)   0           batch_normalization_84[0][0]     \n",
            "__________________________________________________________________________________________________\n",
            "conv2d_85 (Conv2D)              (None, 32, 32, 6)    2268        activation_84[0][0]              \n",
            "__________________________________________________________________________________________________\n",
            "dropout_82 (Dropout)            (None, 32, 32, 6)    0           conv2d_85[0][0]                  \n",
            "__________________________________________________________________________________________________\n",
            "concatenate_78 (Concatenate)    (None, 32, 32, 48)   0           concatenate_77[0][0]             \n",
            "                                                                 dropout_82[0][0]                 \n",
            "__________________________________________________________________________________________________\n",
            "batch_normalization_85 (BatchNo (None, 32, 32, 48)   192         concatenate_78[0][0]             \n",
            "__________________________________________________________________________________________________\n",
            "activation_85 (Activation)      (None, 32, 32, 48)   0           batch_normalization_85[0][0]     \n",
            "__________________________________________________________________________________________________\n",
            "conv2d_86 (Conv2D)              (None, 32, 32, 6)    2592        activation_85[0][0]              \n",
            "__________________________________________________________________________________________________\n",
            "dropout_83 (Dropout)            (None, 32, 32, 6)    0           conv2d_86[0][0]                  \n",
            "__________________________________________________________________________________________________\n",
            "concatenate_79 (Concatenate)    (None, 32, 32, 54)   0           concatenate_78[0][0]             \n",
            "                                                                 dropout_83[0][0]                 \n",
            "__________________________________________________________________________________________________\n",
            "batch_normalization_86 (BatchNo (None, 32, 32, 54)   216         concatenate_79[0][0]             \n",
            "__________________________________________________________________________________________________\n",
            "activation_86 (Activation)      (None, 32, 32, 54)   0           batch_normalization_86[0][0]     \n",
            "__________________________________________________________________________________________________\n",
            "conv2d_87 (Conv2D)              (None, 32, 32, 6)    2916        activation_86[0][0]              \n",
            "__________________________________________________________________________________________________\n",
            "dropout_84 (Dropout)            (None, 32, 32, 6)    0           conv2d_87[0][0]                  \n",
            "__________________________________________________________________________________________________\n",
            "concatenate_80 (Concatenate)    (None, 32, 32, 60)   0           concatenate_79[0][0]             \n",
            "                                                                 dropout_84[0][0]                 \n",
            "__________________________________________________________________________________________________\n",
            "batch_normalization_87 (BatchNo (None, 32, 32, 60)   240         concatenate_80[0][0]             \n",
            "__________________________________________________________________________________________________\n",
            "activation_87 (Activation)      (None, 32, 32, 60)   0           batch_normalization_87[0][0]     \n",
            "__________________________________________________________________________________________________\n",
            "conv2d_88 (Conv2D)              (None, 32, 32, 6)    3240        activation_87[0][0]              \n",
            "__________________________________________________________________________________________________\n",
            "dropout_85 (Dropout)            (None, 32, 32, 6)    0           conv2d_88[0][0]                  \n",
            "__________________________________________________________________________________________________\n",
            "concatenate_81 (Concatenate)    (None, 32, 32, 66)   0           concatenate_80[0][0]             \n",
            "                                                                 dropout_85[0][0]                 \n",
            "__________________________________________________________________________________________________\n",
            "batch_normalization_88 (BatchNo (None, 32, 32, 66)   264         concatenate_81[0][0]             \n",
            "__________________________________________________________________________________________________\n",
            "activation_88 (Activation)      (None, 32, 32, 66)   0           batch_normalization_88[0][0]     \n",
            "__________________________________________________________________________________________________\n",
            "conv2d_89 (Conv2D)              (None, 32, 32, 6)    3564        activation_88[0][0]              \n",
            "__________________________________________________________________________________________________\n",
            "dropout_86 (Dropout)            (None, 32, 32, 6)    0           conv2d_89[0][0]                  \n",
            "__________________________________________________________________________________________________\n",
            "concatenate_82 (Concatenate)    (None, 32, 32, 72)   0           concatenate_81[0][0]             \n",
            "                                                                 dropout_86[0][0]                 \n",
            "__________________________________________________________________________________________________\n",
            "batch_normalization_89 (BatchNo (None, 32, 32, 72)   288         concatenate_82[0][0]             \n",
            "__________________________________________________________________________________________________\n",
            "activation_89 (Activation)      (None, 32, 32, 72)   0           batch_normalization_89[0][0]     \n",
            "__________________________________________________________________________________________________\n",
            "conv2d_90 (Conv2D)              (None, 32, 32, 6)    3888        activation_89[0][0]              \n",
            "__________________________________________________________________________________________________\n",
            "dropout_87 (Dropout)            (None, 32, 32, 6)    0           conv2d_90[0][0]                  \n",
            "__________________________________________________________________________________________________\n",
            "concatenate_83 (Concatenate)    (None, 32, 32, 78)   0           concatenate_82[0][0]             \n",
            "                                                                 dropout_87[0][0]                 \n",
            "__________________________________________________________________________________________________\n",
            "batch_normalization_90 (BatchNo (None, 32, 32, 78)   312         concatenate_83[0][0]             \n",
            "__________________________________________________________________________________________________\n",
            "activation_90 (Activation)      (None, 32, 32, 78)   0           batch_normalization_90[0][0]     \n",
            "__________________________________________________________________________________________________\n",
            "conv2d_91 (Conv2D)              (None, 32, 32, 6)    4212        activation_90[0][0]              \n",
            "__________________________________________________________________________________________________\n",
            "dropout_88 (Dropout)            (None, 32, 32, 6)    0           conv2d_91[0][0]                  \n",
            "__________________________________________________________________________________________________\n",
            "concatenate_84 (Concatenate)    (None, 32, 32, 84)   0           concatenate_83[0][0]             \n",
            "                                                                 dropout_88[0][0]                 \n",
            "__________________________________________________________________________________________________\n",
            "batch_normalization_91 (BatchNo (None, 32, 32, 84)   336         concatenate_84[0][0]             \n",
            "__________________________________________________________________________________________________\n",
            "activation_91 (Activation)      (None, 32, 32, 84)   0           batch_normalization_91[0][0]     \n",
            "__________________________________________________________________________________________________\n",
            "conv2d_92 (Conv2D)              (None, 32, 32, 6)    504         activation_91[0][0]              \n",
            "__________________________________________________________________________________________________\n",
            "dropout_89 (Dropout)            (None, 32, 32, 6)    0           conv2d_92[0][0]                  \n",
            "__________________________________________________________________________________________________\n",
            "average_pooling2d_5 (AveragePoo (None, 16, 16, 6)    0           dropout_89[0][0]                 \n",
            "__________________________________________________________________________________________________\n",
            "batch_normalization_92 (BatchNo (None, 16, 16, 6)    24          average_pooling2d_5[0][0]        \n",
            "__________________________________________________________________________________________________\n",
            "activation_92 (Activation)      (None, 16, 16, 6)    0           batch_normalization_92[0][0]     \n",
            "__________________________________________________________________________________________________\n",
            "conv2d_93 (Conv2D)              (None, 16, 16, 6)    324         activation_92[0][0]              \n",
            "__________________________________________________________________________________________________\n",
            "dropout_90 (Dropout)            (None, 16, 16, 6)    0           conv2d_93[0][0]                  \n",
            "__________________________________________________________________________________________________\n",
            "concatenate_85 (Concatenate)    (None, 16, 16, 12)   0           average_pooling2d_5[0][0]        \n",
            "                                                                 dropout_90[0][0]                 \n",
            "__________________________________________________________________________________________________\n",
            "batch_normalization_93 (BatchNo (None, 16, 16, 12)   48          concatenate_85[0][0]             \n",
            "__________________________________________________________________________________________________\n",
            "activation_93 (Activation)      (None, 16, 16, 12)   0           batch_normalization_93[0][0]     \n",
            "__________________________________________________________________________________________________\n",
            "conv2d_94 (Conv2D)              (None, 16, 16, 6)    648         activation_93[0][0]              \n",
            "__________________________________________________________________________________________________\n",
            "dropout_91 (Dropout)            (None, 16, 16, 6)    0           conv2d_94[0][0]                  \n",
            "__________________________________________________________________________________________________\n",
            "concatenate_86 (Concatenate)    (None, 16, 16, 18)   0           concatenate_85[0][0]             \n",
            "                                                                 dropout_91[0][0]                 \n",
            "__________________________________________________________________________________________________\n",
            "batch_normalization_94 (BatchNo (None, 16, 16, 18)   72          concatenate_86[0][0]             \n",
            "__________________________________________________________________________________________________\n",
            "activation_94 (Activation)      (None, 16, 16, 18)   0           batch_normalization_94[0][0]     \n",
            "__________________________________________________________________________________________________\n",
            "conv2d_95 (Conv2D)              (None, 16, 16, 6)    972         activation_94[0][0]              \n",
            "__________________________________________________________________________________________________\n",
            "dropout_92 (Dropout)            (None, 16, 16, 6)    0           conv2d_95[0][0]                  \n",
            "__________________________________________________________________________________________________\n",
            "concatenate_87 (Concatenate)    (None, 16, 16, 24)   0           concatenate_86[0][0]             \n",
            "                                                                 dropout_92[0][0]                 \n",
            "__________________________________________________________________________________________________\n",
            "batch_normalization_95 (BatchNo (None, 16, 16, 24)   96          concatenate_87[0][0]             \n",
            "__________________________________________________________________________________________________\n",
            "activation_95 (Activation)      (None, 16, 16, 24)   0           batch_normalization_95[0][0]     \n",
            "__________________________________________________________________________________________________\n",
            "conv2d_96 (Conv2D)              (None, 16, 16, 6)    1296        activation_95[0][0]              \n",
            "__________________________________________________________________________________________________\n",
            "dropout_93 (Dropout)            (None, 16, 16, 6)    0           conv2d_96[0][0]                  \n",
            "__________________________________________________________________________________________________\n",
            "concatenate_88 (Concatenate)    (None, 16, 16, 30)   0           concatenate_87[0][0]             \n",
            "                                                                 dropout_93[0][0]                 \n",
            "__________________________________________________________________________________________________\n",
            "batch_normalization_96 (BatchNo (None, 16, 16, 30)   120         concatenate_88[0][0]             \n",
            "__________________________________________________________________________________________________\n",
            "activation_96 (Activation)      (None, 16, 16, 30)   0           batch_normalization_96[0][0]     \n",
            "__________________________________________________________________________________________________\n",
            "conv2d_97 (Conv2D)              (None, 16, 16, 6)    1620        activation_96[0][0]              \n",
            "__________________________________________________________________________________________________\n",
            "dropout_94 (Dropout)            (None, 16, 16, 6)    0           conv2d_97[0][0]                  \n",
            "__________________________________________________________________________________________________\n",
            "concatenate_89 (Concatenate)    (None, 16, 16, 36)   0           concatenate_88[0][0]             \n",
            "                                                                 dropout_94[0][0]                 \n",
            "__________________________________________________________________________________________________\n",
            "batch_normalization_97 (BatchNo (None, 16, 16, 36)   144         concatenate_89[0][0]             \n",
            "__________________________________________________________________________________________________\n",
            "activation_97 (Activation)      (None, 16, 16, 36)   0           batch_normalization_97[0][0]     \n",
            "__________________________________________________________________________________________________\n",
            "conv2d_98 (Conv2D)              (None, 16, 16, 6)    1944        activation_97[0][0]              \n",
            "__________________________________________________________________________________________________\n",
            "dropout_95 (Dropout)            (None, 16, 16, 6)    0           conv2d_98[0][0]                  \n",
            "__________________________________________________________________________________________________\n",
            "concatenate_90 (Concatenate)    (None, 16, 16, 42)   0           concatenate_89[0][0]             \n",
            "                                                                 dropout_95[0][0]                 \n",
            "__________________________________________________________________________________________________\n",
            "batch_normalization_98 (BatchNo (None, 16, 16, 42)   168         concatenate_90[0][0]             \n",
            "__________________________________________________________________________________________________\n",
            "activation_98 (Activation)      (None, 16, 16, 42)   0           batch_normalization_98[0][0]     \n",
            "__________________________________________________________________________________________________\n",
            "conv2d_99 (Conv2D)              (None, 16, 16, 6)    2268        activation_98[0][0]              \n",
            "__________________________________________________________________________________________________\n",
            "dropout_96 (Dropout)            (None, 16, 16, 6)    0           conv2d_99[0][0]                  \n",
            "__________________________________________________________________________________________________\n",
            "concatenate_91 (Concatenate)    (None, 16, 16, 48)   0           concatenate_90[0][0]             \n",
            "                                                                 dropout_96[0][0]                 \n",
            "__________________________________________________________________________________________________\n",
            "batch_normalization_99 (BatchNo (None, 16, 16, 48)   192         concatenate_91[0][0]             \n",
            "__________________________________________________________________________________________________\n",
            "activation_99 (Activation)      (None, 16, 16, 48)   0           batch_normalization_99[0][0]     \n",
            "__________________________________________________________________________________________________\n",
            "conv2d_100 (Conv2D)             (None, 16, 16, 6)    2592        activation_99[0][0]              \n",
            "__________________________________________________________________________________________________\n",
            "dropout_97 (Dropout)            (None, 16, 16, 6)    0           conv2d_100[0][0]                 \n",
            "__________________________________________________________________________________________________\n",
            "concatenate_92 (Concatenate)    (None, 16, 16, 54)   0           concatenate_91[0][0]             \n",
            "                                                                 dropout_97[0][0]                 \n",
            "__________________________________________________________________________________________________\n",
            "batch_normalization_100 (BatchN (None, 16, 16, 54)   216         concatenate_92[0][0]             \n",
            "__________________________________________________________________________________________________\n",
            "activation_100 (Activation)     (None, 16, 16, 54)   0           batch_normalization_100[0][0]    \n",
            "__________________________________________________________________________________________________\n",
            "conv2d_101 (Conv2D)             (None, 16, 16, 6)    2916        activation_100[0][0]             \n",
            "__________________________________________________________________________________________________\n",
            "dropout_98 (Dropout)            (None, 16, 16, 6)    0           conv2d_101[0][0]                 \n",
            "__________________________________________________________________________________________________\n",
            "concatenate_93 (Concatenate)    (None, 16, 16, 60)   0           concatenate_92[0][0]             \n",
            "                                                                 dropout_98[0][0]                 \n",
            "__________________________________________________________________________________________________\n",
            "batch_normalization_101 (BatchN (None, 16, 16, 60)   240         concatenate_93[0][0]             \n",
            "__________________________________________________________________________________________________\n",
            "activation_101 (Activation)     (None, 16, 16, 60)   0           batch_normalization_101[0][0]    \n",
            "__________________________________________________________________________________________________\n",
            "conv2d_102 (Conv2D)             (None, 16, 16, 6)    3240        activation_101[0][0]             \n",
            "__________________________________________________________________________________________________\n",
            "dropout_99 (Dropout)            (None, 16, 16, 6)    0           conv2d_102[0][0]                 \n",
            "__________________________________________________________________________________________________\n",
            "concatenate_94 (Concatenate)    (None, 16, 16, 66)   0           concatenate_93[0][0]             \n",
            "                                                                 dropout_99[0][0]                 \n",
            "__________________________________________________________________________________________________\n",
            "batch_normalization_102 (BatchN (None, 16, 16, 66)   264         concatenate_94[0][0]             \n",
            "__________________________________________________________________________________________________\n",
            "activation_102 (Activation)     (None, 16, 16, 66)   0           batch_normalization_102[0][0]    \n",
            "__________________________________________________________________________________________________\n",
            "conv2d_103 (Conv2D)             (None, 16, 16, 6)    3564        activation_102[0][0]             \n",
            "__________________________________________________________________________________________________\n",
            "dropout_100 (Dropout)           (None, 16, 16, 6)    0           conv2d_103[0][0]                 \n",
            "__________________________________________________________________________________________________\n",
            "concatenate_95 (Concatenate)    (None, 16, 16, 72)   0           concatenate_94[0][0]             \n",
            "                                                                 dropout_100[0][0]                \n",
            "__________________________________________________________________________________________________\n",
            "batch_normalization_103 (BatchN (None, 16, 16, 72)   288         concatenate_95[0][0]             \n",
            "__________________________________________________________________________________________________\n",
            "activation_103 (Activation)     (None, 16, 16, 72)   0           batch_normalization_103[0][0]    \n",
            "__________________________________________________________________________________________________\n",
            "conv2d_104 (Conv2D)             (None, 16, 16, 6)    3888        activation_103[0][0]             \n",
            "__________________________________________________________________________________________________\n",
            "dropout_101 (Dropout)           (None, 16, 16, 6)    0           conv2d_104[0][0]                 \n",
            "__________________________________________________________________________________________________\n",
            "concatenate_96 (Concatenate)    (None, 16, 16, 78)   0           concatenate_95[0][0]             \n",
            "                                                                 dropout_101[0][0]                \n",
            "__________________________________________________________________________________________________\n",
            "batch_normalization_104 (BatchN (None, 16, 16, 78)   312         concatenate_96[0][0]             \n",
            "__________________________________________________________________________________________________\n",
            "activation_104 (Activation)     (None, 16, 16, 78)   0           batch_normalization_104[0][0]    \n",
            "__________________________________________________________________________________________________\n",
            "conv2d_105 (Conv2D)             (None, 16, 16, 6)    468         activation_104[0][0]             \n",
            "__________________________________________________________________________________________________\n",
            "dropout_102 (Dropout)           (None, 16, 16, 6)    0           conv2d_105[0][0]                 \n",
            "__________________________________________________________________________________________________\n",
            "average_pooling2d_6 (AveragePoo (None, 8, 8, 6)      0           dropout_102[0][0]                \n",
            "__________________________________________________________________________________________________\n",
            "batch_normalization_105 (BatchN (None, 8, 8, 6)      24          average_pooling2d_6[0][0]        \n",
            "__________________________________________________________________________________________________\n",
            "activation_105 (Activation)     (None, 8, 8, 6)      0           batch_normalization_105[0][0]    \n",
            "__________________________________________________________________________________________________\n",
            "conv2d_106 (Conv2D)             (None, 8, 8, 6)      324         activation_105[0][0]             \n",
            "__________________________________________________________________________________________________\n",
            "dropout_103 (Dropout)           (None, 8, 8, 6)      0           conv2d_106[0][0]                 \n",
            "__________________________________________________________________________________________________\n",
            "concatenate_97 (Concatenate)    (None, 8, 8, 12)     0           average_pooling2d_6[0][0]        \n",
            "                                                                 dropout_103[0][0]                \n",
            "__________________________________________________________________________________________________\n",
            "batch_normalization_106 (BatchN (None, 8, 8, 12)     48          concatenate_97[0][0]             \n",
            "__________________________________________________________________________________________________\n",
            "activation_106 (Activation)     (None, 8, 8, 12)     0           batch_normalization_106[0][0]    \n",
            "__________________________________________________________________________________________________\n",
            "conv2d_107 (Conv2D)             (None, 8, 8, 6)      648         activation_106[0][0]             \n",
            "__________________________________________________________________________________________________\n",
            "dropout_104 (Dropout)           (None, 8, 8, 6)      0           conv2d_107[0][0]                 \n",
            "__________________________________________________________________________________________________\n",
            "concatenate_98 (Concatenate)    (None, 8, 8, 18)     0           concatenate_97[0][0]             \n",
            "                                                                 dropout_104[0][0]                \n",
            "__________________________________________________________________________________________________\n",
            "batch_normalization_107 (BatchN (None, 8, 8, 18)     72          concatenate_98[0][0]             \n",
            "__________________________________________________________________________________________________\n",
            "activation_107 (Activation)     (None, 8, 8, 18)     0           batch_normalization_107[0][0]    \n",
            "__________________________________________________________________________________________________\n",
            "conv2d_108 (Conv2D)             (None, 8, 8, 6)      972         activation_107[0][0]             \n",
            "__________________________________________________________________________________________________\n",
            "dropout_105 (Dropout)           (None, 8, 8, 6)      0           conv2d_108[0][0]                 \n",
            "__________________________________________________________________________________________________\n",
            "concatenate_99 (Concatenate)    (None, 8, 8, 24)     0           concatenate_98[0][0]             \n",
            "                                                                 dropout_105[0][0]                \n",
            "__________________________________________________________________________________________________\n",
            "batch_normalization_108 (BatchN (None, 8, 8, 24)     96          concatenate_99[0][0]             \n",
            "__________________________________________________________________________________________________\n",
            "activation_108 (Activation)     (None, 8, 8, 24)     0           batch_normalization_108[0][0]    \n",
            "__________________________________________________________________________________________________\n",
            "conv2d_109 (Conv2D)             (None, 8, 8, 6)      1296        activation_108[0][0]             \n",
            "__________________________________________________________________________________________________\n",
            "dropout_106 (Dropout)           (None, 8, 8, 6)      0           conv2d_109[0][0]                 \n",
            "__________________________________________________________________________________________________\n",
            "concatenate_100 (Concatenate)   (None, 8, 8, 30)     0           concatenate_99[0][0]             \n",
            "                                                                 dropout_106[0][0]                \n",
            "__________________________________________________________________________________________________\n",
            "batch_normalization_109 (BatchN (None, 8, 8, 30)     120         concatenate_100[0][0]            \n",
            "__________________________________________________________________________________________________\n",
            "activation_109 (Activation)     (None, 8, 8, 30)     0           batch_normalization_109[0][0]    \n",
            "__________________________________________________________________________________________________\n",
            "conv2d_110 (Conv2D)             (None, 8, 8, 6)      1620        activation_109[0][0]             \n",
            "__________________________________________________________________________________________________\n",
            "dropout_107 (Dropout)           (None, 8, 8, 6)      0           conv2d_110[0][0]                 \n",
            "__________________________________________________________________________________________________\n",
            "concatenate_101 (Concatenate)   (None, 8, 8, 36)     0           concatenate_100[0][0]            \n",
            "                                                                 dropout_107[0][0]                \n",
            "__________________________________________________________________________________________________\n",
            "batch_normalization_110 (BatchN (None, 8, 8, 36)     144         concatenate_101[0][0]            \n",
            "__________________________________________________________________________________________________\n",
            "activation_110 (Activation)     (None, 8, 8, 36)     0           batch_normalization_110[0][0]    \n",
            "__________________________________________________________________________________________________\n",
            "conv2d_111 (Conv2D)             (None, 8, 8, 6)      1944        activation_110[0][0]             \n",
            "__________________________________________________________________________________________________\n",
            "dropout_108 (Dropout)           (None, 8, 8, 6)      0           conv2d_111[0][0]                 \n",
            "__________________________________________________________________________________________________\n",
            "concatenate_102 (Concatenate)   (None, 8, 8, 42)     0           concatenate_101[0][0]            \n",
            "                                                                 dropout_108[0][0]                \n",
            "__________________________________________________________________________________________________\n",
            "batch_normalization_111 (BatchN (None, 8, 8, 42)     168         concatenate_102[0][0]            \n",
            "__________________________________________________________________________________________________\n",
            "activation_111 (Activation)     (None, 8, 8, 42)     0           batch_normalization_111[0][0]    \n",
            "__________________________________________________________________________________________________\n",
            "conv2d_112 (Conv2D)             (None, 8, 8, 6)      2268        activation_111[0][0]             \n",
            "__________________________________________________________________________________________________\n",
            "dropout_109 (Dropout)           (None, 8, 8, 6)      0           conv2d_112[0][0]                 \n",
            "__________________________________________________________________________________________________\n",
            "concatenate_103 (Concatenate)   (None, 8, 8, 48)     0           concatenate_102[0][0]            \n",
            "                                                                 dropout_109[0][0]                \n",
            "__________________________________________________________________________________________________\n",
            "batch_normalization_112 (BatchN (None, 8, 8, 48)     192         concatenate_103[0][0]            \n",
            "__________________________________________________________________________________________________\n",
            "activation_112 (Activation)     (None, 8, 8, 48)     0           batch_normalization_112[0][0]    \n",
            "__________________________________________________________________________________________________\n",
            "conv2d_113 (Conv2D)             (None, 8, 8, 6)      2592        activation_112[0][0]             \n",
            "__________________________________________________________________________________________________\n",
            "dropout_110 (Dropout)           (None, 8, 8, 6)      0           conv2d_113[0][0]                 \n",
            "__________________________________________________________________________________________________\n",
            "concatenate_104 (Concatenate)   (None, 8, 8, 54)     0           concatenate_103[0][0]            \n",
            "                                                                 dropout_110[0][0]                \n",
            "__________________________________________________________________________________________________\n",
            "batch_normalization_113 (BatchN (None, 8, 8, 54)     216         concatenate_104[0][0]            \n",
            "__________________________________________________________________________________________________\n",
            "activation_113 (Activation)     (None, 8, 8, 54)     0           batch_normalization_113[0][0]    \n",
            "__________________________________________________________________________________________________\n",
            "conv2d_114 (Conv2D)             (None, 8, 8, 6)      2916        activation_113[0][0]             \n",
            "__________________________________________________________________________________________________\n",
            "dropout_111 (Dropout)           (None, 8, 8, 6)      0           conv2d_114[0][0]                 \n",
            "__________________________________________________________________________________________________\n",
            "concatenate_105 (Concatenate)   (None, 8, 8, 60)     0           concatenate_104[0][0]            \n",
            "                                                                 dropout_111[0][0]                \n",
            "__________________________________________________________________________________________________\n",
            "batch_normalization_114 (BatchN (None, 8, 8, 60)     240         concatenate_105[0][0]            \n",
            "__________________________________________________________________________________________________\n",
            "activation_114 (Activation)     (None, 8, 8, 60)     0           batch_normalization_114[0][0]    \n",
            "__________________________________________________________________________________________________\n",
            "conv2d_115 (Conv2D)             (None, 8, 8, 6)      3240        activation_114[0][0]             \n",
            "__________________________________________________________________________________________________\n",
            "dropout_112 (Dropout)           (None, 8, 8, 6)      0           conv2d_115[0][0]                 \n",
            "__________________________________________________________________________________________________\n",
            "concatenate_106 (Concatenate)   (None, 8, 8, 66)     0           concatenate_105[0][0]            \n",
            "                                                                 dropout_112[0][0]                \n",
            "__________________________________________________________________________________________________\n",
            "batch_normalization_115 (BatchN (None, 8, 8, 66)     264         concatenate_106[0][0]            \n",
            "__________________________________________________________________________________________________\n",
            "activation_115 (Activation)     (None, 8, 8, 66)     0           batch_normalization_115[0][0]    \n",
            "__________________________________________________________________________________________________\n",
            "conv2d_116 (Conv2D)             (None, 8, 8, 6)      3564        activation_115[0][0]             \n",
            "__________________________________________________________________________________________________\n",
            "dropout_113 (Dropout)           (None, 8, 8, 6)      0           conv2d_116[0][0]                 \n",
            "__________________________________________________________________________________________________\n",
            "concatenate_107 (Concatenate)   (None, 8, 8, 72)     0           concatenate_106[0][0]            \n",
            "                                                                 dropout_113[0][0]                \n",
            "__________________________________________________________________________________________________\n",
            "batch_normalization_116 (BatchN (None, 8, 8, 72)     288         concatenate_107[0][0]            \n",
            "__________________________________________________________________________________________________\n",
            "activation_116 (Activation)     (None, 8, 8, 72)     0           batch_normalization_116[0][0]    \n",
            "__________________________________________________________________________________________________\n",
            "conv2d_117 (Conv2D)             (None, 8, 8, 6)      3888        activation_116[0][0]             \n",
            "__________________________________________________________________________________________________\n",
            "dropout_114 (Dropout)           (None, 8, 8, 6)      0           conv2d_117[0][0]                 \n",
            "__________________________________________________________________________________________________\n",
            "concatenate_108 (Concatenate)   (None, 8, 8, 78)     0           concatenate_107[0][0]            \n",
            "                                                                 dropout_114[0][0]                \n",
            "__________________________________________________________________________________________________\n",
            "batch_normalization_117 (BatchN (None, 8, 8, 78)     312         concatenate_108[0][0]            \n",
            "__________________________________________________________________________________________________\n",
            "activation_117 (Activation)     (None, 8, 8, 78)     0           batch_normalization_117[0][0]    \n",
            "__________________________________________________________________________________________________\n",
            "flatten_3 (Flatten)             (None, 4992)         0           activation_117[0][0]             \n",
            "__________________________________________________________________________________________________\n",
            "dense_3 (Dense)                 (None, 10)           49930       flatten_3[0][0]                  \n",
            "==================================================================================================\n",
            "Total params: 137,794\n",
            "Trainable params: 134,362\n",
            "Non-trainable params: 3,432\n",
            "__________________________________________________________________________________________________\n"
          ],
          "name": "stdout"
        }
      ]
    },
    {
      "metadata": {
        "id": "Kfu_3i7HQvzY",
        "colab_type": "code",
        "colab": {}
      },
      "cell_type": "code",
      "source": [
        "model.compile(loss='categorical_crossentropy',\n",
        "              optimizer=Adam(),\n",
        "              metrics=['accuracy'])"
      ],
      "execution_count": 0,
      "outputs": []
    },
    {
      "metadata": {
        "id": "Do-ypn2HQ0Li",
        "colab_type": "code",
        "colab": {
          "base_uri": "https://localhost:8080/",
          "height": 1892
        },
        "outputId": "1e8958bf-bf5b-45af-ac38-d77cf9f92adb"
      },
      "cell_type": "code",
      "source": [
        "model.fit(x_train, y_train,\n",
        "                    batch_size=batch_size,\n",
        "                    epochs=epochs,\n",
        "                    verbose=1,\n",
        "                    validation_data=(x_test, y_test))"
      ],
      "execution_count": 32,
      "outputs": [
        {
          "output_type": "stream",
          "text": [
            "Train on 50000 samples, validate on 10000 samples\n",
            "Epoch 1/50\n",
            "50000/50000 [==============================] - 160s 3ms/step - loss: 1.6885 - acc: 0.3963 - val_loss: 1.4273 - val_acc: 0.4956\n",
            "Epoch 2/50\n",
            "19200/50000 [==========>...................] - ETA: 1:27 - loss: 1.3571 - acc: 0.5146"
          ],
          "name": "stdout"
        },
        {
          "output_type": "stream",
          "text": [
            "50000/50000 [==============================] - 149s 3ms/step - loss: 1.2936 - acc: 0.5380 - val_loss: 1.7514 - val_acc: 0.4277\n",
            "Epoch 3/50\n",
            "45568/50000 [==========================>...] - ETA: 12s - loss: 1.1421 - acc: 0.5951"
          ],
          "name": "stdout"
        },
        {
          "output_type": "stream",
          "text": [
            "50000/50000 [==============================] - 149s 3ms/step - loss: 1.1400 - acc: 0.5955 - val_loss: 1.1679 - val_acc: 0.6022\n",
            "Epoch 4/50\n",
            "50000/50000 [==============================] - 149s 3ms/step - loss: 1.0328 - acc: 0.6363 - val_loss: 1.0472 - val_acc: 0.6484\n",
            "Epoch 5/50\n",
            " 3328/50000 [>.............................] - ETA: 2:06 - loss: 0.9569 - acc: 0.6629"
          ],
          "name": "stdout"
        },
        {
          "output_type": "stream",
          "text": [
            "50000/50000 [==============================] - 147s 3ms/step - loss: 0.9464 - acc: 0.6666 - val_loss: 1.0524 - val_acc: 0.6472\n",
            "Epoch 6/50\n",
            "39552/50000 [======================>.......] - ETA: 29s - loss: 0.8792 - acc: 0.6916"
          ],
          "name": "stdout"
        },
        {
          "output_type": "stream",
          "text": [
            "50000/50000 [==============================] - 150s 3ms/step - loss: 0.8787 - acc: 0.6910 - val_loss: 0.9723 - val_acc: 0.6741\n",
            "Epoch 7/50\n",
            "50000/50000 [==============================] - 150s 3ms/step - loss: 0.8312 - acc: 0.7092 - val_loss: 1.1534 - val_acc: 0.6541\n",
            "Epoch 8/50\n",
            " 1920/50000 [>.............................] - ETA: 2:17 - loss: 0.8044 - acc: 0.7245"
          ],
          "name": "stdout"
        },
        {
          "output_type": "stream",
          "text": [
            "50000/50000 [==============================] - 150s 3ms/step - loss: 0.7831 - acc: 0.7237 - val_loss: 0.9690 - val_acc: 0.6792\n",
            "Epoch 9/50\n",
            "39040/50000 [======================>.......] - ETA: 30s - loss: 0.7448 - acc: 0.7372"
          ],
          "name": "stdout"
        },
        {
          "output_type": "stream",
          "text": [
            "50000/50000 [==============================] - 146s 3ms/step - loss: 0.7420 - acc: 0.7392 - val_loss: 0.8925 - val_acc: 0.7133\n",
            "Epoch 10/50\n",
            "50000/50000 [==============================] - 149s 3ms/step - loss: 0.7101 - acc: 0.7500 - val_loss: 0.8382 - val_acc: 0.7182\n",
            "Epoch 11/50\n",
            " 1664/50000 [..............................] - ETA: 2:16 - loss: 0.7064 - acc: 0.7566"
          ],
          "name": "stdout"
        },
        {
          "output_type": "stream",
          "text": [
            "50000/50000 [==============================] - 149s 3ms/step - loss: 0.6828 - acc: 0.7590 - val_loss: 0.9149 - val_acc: 0.6977\n",
            "Epoch 12/50\n",
            "38784/50000 [======================>.......] - ETA: 31s - loss: 0.6577 - acc: 0.7691"
          ],
          "name": "stdout"
        },
        {
          "output_type": "stream",
          "text": [
            "50000/50000 [==============================] - 149s 3ms/step - loss: 0.6580 - acc: 0.7688 - val_loss: 0.7612 - val_acc: 0.7449\n",
            "Epoch 13/50\n",
            "50000/50000 [==============================] - 149s 3ms/step - loss: 0.6376 - acc: 0.7740 - val_loss: 0.7501 - val_acc: 0.7519\n",
            "Epoch 14/50\n",
            " 1536/50000 [..............................] - ETA: 2:12 - loss: 0.6566 - acc: 0.7721"
          ],
          "name": "stdout"
        },
        {
          "output_type": "stream",
          "text": [
            "50000/50000 [==============================] - 147s 3ms/step - loss: 0.6151 - acc: 0.7846 - val_loss: 0.7188 - val_acc: 0.7677\n",
            "Epoch 15/50\n",
            "38656/50000 [======================>.......] - ETA: 32s - loss: 0.5976 - acc: 0.7905"
          ],
          "name": "stdout"
        },
        {
          "output_type": "stream",
          "text": [
            "50000/50000 [==============================] - 150s 3ms/step - loss: 0.5996 - acc: 0.7892 - val_loss: 0.8878 - val_acc: 0.7277\n",
            "Epoch 16/50\n",
            "50000/50000 [==============================] - 149s 3ms/step - loss: 0.5825 - acc: 0.7933 - val_loss: 0.7757 - val_acc: 0.7474\n",
            "Epoch 17/50\n",
            " 1536/50000 [..............................] - ETA: 2:16 - loss: 0.5036 - acc: 0.8242"
          ],
          "name": "stdout"
        },
        {
          "output_type": "stream",
          "text": [
            "50000/50000 [==============================] - 149s 3ms/step - loss: 0.5642 - acc: 0.8004 - val_loss: 0.7089 - val_acc: 0.7685\n",
            "Epoch 18/50\n",
            "38656/50000 [======================>.......] - ETA: 31s - loss: 0.5516 - acc: 0.8064"
          ],
          "name": "stdout"
        },
        {
          "output_type": "stream",
          "text": [
            "50000/50000 [==============================] - 146s 3ms/step - loss: 0.5516 - acc: 0.8056 - val_loss: 0.7130 - val_acc: 0.7730\n",
            "Epoch 19/50\n",
            "50000/50000 [==============================] - 147s 3ms/step - loss: 0.5384 - acc: 0.8099 - val_loss: 0.7136 - val_acc: 0.7706\n",
            "Epoch 20/50\n",
            " 1536/50000 [..............................] - ETA: 2:15 - loss: 0.4989 - acc: 0.8184"
          ],
          "name": "stdout"
        },
        {
          "output_type": "stream",
          "text": [
            "50000/50000 [==============================] - 149s 3ms/step - loss: 0.5239 - acc: 0.8144 - val_loss: 0.7215 - val_acc: 0.7673\n",
            "Epoch 21/50\n",
            "38656/50000 [======================>.......] - ETA: 31s - loss: 0.5150 - acc: 0.8161"
          ],
          "name": "stdout"
        },
        {
          "output_type": "stream",
          "text": [
            "50000/50000 [==============================] - 148s 3ms/step - loss: 0.5185 - acc: 0.8153 - val_loss: 0.8556 - val_acc: 0.7339\n",
            "Epoch 22/50\n",
            "50000/50000 [==============================] - 149s 3ms/step - loss: 0.5074 - acc: 0.8215 - val_loss: 0.6897 - val_acc: 0.7828\n",
            "Epoch 23/50\n",
            " 1536/50000 [..............................] - ETA: 2:17 - loss: 0.5005 - acc: 0.8379"
          ],
          "name": "stdout"
        },
        {
          "output_type": "stream",
          "text": [
            "50000/50000 [==============================] - 147s 3ms/step - loss: 0.4960 - acc: 0.8249 - val_loss: 0.7267 - val_acc: 0.7797\n",
            "Epoch 24/50\n",
            "38656/50000 [======================>.......] - ETA: 32s - loss: 0.4862 - acc: 0.8286"
          ],
          "name": "stdout"
        },
        {
          "output_type": "stream",
          "text": [
            "50000/50000 [==============================] - 149s 3ms/step - loss: 0.4862 - acc: 0.8290 - val_loss: 0.7140 - val_acc: 0.7829\n",
            "Epoch 25/50\n",
            "50000/50000 [==============================] - 148s 3ms/step - loss: 0.4737 - acc: 0.8303 - val_loss: 0.7976 - val_acc: 0.7613\n",
            "Epoch 26/50\n",
            " 1536/50000 [..............................] - ETA: 2:18 - loss: 0.4532 - acc: 0.8372"
          ],
          "name": "stdout"
        },
        {
          "output_type": "stream",
          "text": [
            "50000/50000 [==============================] - 150s 3ms/step - loss: 0.4672 - acc: 0.8342 - val_loss: 0.7657 - val_acc: 0.7672\n",
            "Epoch 27/50\n",
            "38656/50000 [======================>.......] - ETA: 32s - loss: 0.4529 - acc: 0.8373"
          ],
          "name": "stdout"
        },
        {
          "output_type": "stream",
          "text": [
            "50000/50000 [==============================] - 148s 3ms/step - loss: 0.4537 - acc: 0.8378 - val_loss: 0.7192 - val_acc: 0.7729\n",
            "Epoch 28/50\n",
            "50000/50000 [==============================] - 149s 3ms/step - loss: 0.4530 - acc: 0.8394 - val_loss: 0.6798 - val_acc: 0.7895\n",
            "Epoch 29/50\n",
            " 1536/50000 [..............................] - ETA: 2:17 - loss: 0.4375 - acc: 0.8444"
          ],
          "name": "stdout"
        },
        {
          "output_type": "stream",
          "text": [
            "50000/50000 [==============================] - 150s 3ms/step - loss: 0.4436 - acc: 0.8419 - val_loss: 0.7998 - val_acc: 0.7582\n",
            "Epoch 30/50\n",
            "38656/50000 [======================>.......] - ETA: 31s - loss: 0.4299 - acc: 0.8472"
          ],
          "name": "stdout"
        },
        {
          "output_type": "stream",
          "text": [
            "50000/50000 [==============================] - 148s 3ms/step - loss: 0.4330 - acc: 0.8466 - val_loss: 0.7263 - val_acc: 0.7787\n",
            "Epoch 31/50\n",
            "50000/50000 [==============================] - 149s 3ms/step - loss: 0.4320 - acc: 0.8442 - val_loss: 0.6601 - val_acc: 0.7980\n",
            "Epoch 32/50\n",
            " 1536/50000 [..............................] - ETA: 2:17 - loss: 0.4200 - acc: 0.8496"
          ],
          "name": "stdout"
        },
        {
          "output_type": "stream",
          "text": [
            "50000/50000 [==============================] - 147s 3ms/step - loss: 0.4305 - acc: 0.8463 - val_loss: 0.6547 - val_acc: 0.7972\n",
            "Epoch 33/50\n",
            "38656/50000 [======================>.......] - ETA: 32s - loss: 0.4160 - acc: 0.8520"
          ],
          "name": "stdout"
        },
        {
          "output_type": "stream",
          "text": [
            "50000/50000 [==============================] - 150s 3ms/step - loss: 0.4188 - acc: 0.8512 - val_loss: 0.6839 - val_acc: 0.7907\n",
            "Epoch 34/50\n",
            "50000/50000 [==============================] - 149s 3ms/step - loss: 0.4159 - acc: 0.8512 - val_loss: 0.6700 - val_acc: 0.7944\n",
            "Epoch 35/50\n",
            " 1536/50000 [..............................] - ETA: 2:17 - loss: 0.4053 - acc: 0.8438"
          ],
          "name": "stdout"
        },
        {
          "output_type": "stream",
          "text": [
            "50000/50000 [==============================] - 149s 3ms/step - loss: 0.4100 - acc: 0.8532 - val_loss: 0.6899 - val_acc: 0.7906\n",
            "Epoch 36/50\n",
            "38656/50000 [======================>.......] - ETA: 31s - loss: 0.4034 - acc: 0.8546"
          ],
          "name": "stdout"
        },
        {
          "output_type": "stream",
          "text": [
            "50000/50000 [==============================] - 148s 3ms/step - loss: 0.4065 - acc: 0.8543 - val_loss: 0.6461 - val_acc: 0.7953\n",
            "Epoch 37/50\n",
            "50000/50000 [==============================] - 150s 3ms/step - loss: 0.3955 - acc: 0.8606 - val_loss: 0.7193 - val_acc: 0.7867\n",
            "Epoch 38/50\n",
            " 1536/50000 [..............................] - ETA: 2:17 - loss: 0.3942 - acc: 0.8626"
          ],
          "name": "stdout"
        },
        {
          "output_type": "stream",
          "text": [
            "50000/50000 [==============================] - 148s 3ms/step - loss: 0.3913 - acc: 0.8615 - val_loss: 0.7409 - val_acc: 0.7813\n",
            "Epoch 39/50\n",
            "38656/50000 [======================>.......] - ETA: 31s - loss: 0.3879 - acc: 0.8605"
          ],
          "name": "stdout"
        },
        {
          "output_type": "stream",
          "text": [
            "50000/50000 [==============================] - 148s 3ms/step - loss: 0.3899 - acc: 0.8600 - val_loss: 0.7931 - val_acc: 0.7673\n",
            "Epoch 40/50\n",
            "50000/50000 [==============================] - 150s 3ms/step - loss: 0.3831 - acc: 0.8633 - val_loss: 0.7123 - val_acc: 0.7905\n",
            "Epoch 41/50\n",
            " 1536/50000 [..............................] - ETA: 2:12 - loss: 0.3483 - acc: 0.8678"
          ],
          "name": "stdout"
        },
        {
          "output_type": "stream",
          "text": [
            "50000/50000 [==============================] - 146s 3ms/step - loss: 0.3790 - acc: 0.8636 - val_loss: 0.6765 - val_acc: 0.7906\n",
            "Epoch 42/50\n",
            "38656/50000 [======================>.......] - ETA: 31s - loss: 0.3704 - acc: 0.8666"
          ],
          "name": "stdout"
        },
        {
          "output_type": "stream",
          "text": [
            "50000/50000 [==============================] - 149s 3ms/step - loss: 0.3749 - acc: 0.8654 - val_loss: 0.7811 - val_acc: 0.7699\n",
            "Epoch 43/50\n",
            "50000/50000 [==============================] - 149s 3ms/step - loss: 0.3710 - acc: 0.8661 - val_loss: 0.6777 - val_acc: 0.7927\n",
            "Epoch 44/50\n",
            " 1536/50000 [..............................] - ETA: 2:17 - loss: 0.3842 - acc: 0.8600"
          ],
          "name": "stdout"
        },
        {
          "output_type": "stream",
          "text": [
            "50000/50000 [==============================] - 149s 3ms/step - loss: 0.3666 - acc: 0.8680 - val_loss: 0.7851 - val_acc: 0.7728\n",
            "Epoch 45/50\n",
            "38656/50000 [======================>.......] - ETA: 31s - loss: 0.3572 - acc: 0.8730"
          ],
          "name": "stdout"
        },
        {
          "output_type": "stream",
          "text": [
            "50000/50000 [==============================] - 148s 3ms/step - loss: 0.3602 - acc: 0.8717 - val_loss: 0.7006 - val_acc: 0.7957\n",
            "Epoch 46/50\n",
            "50000/50000 [==============================] - 148s 3ms/step - loss: 0.3625 - acc: 0.8696 - val_loss: 0.6594 - val_acc: 0.8013\n",
            "Epoch 47/50\n",
            " 1536/50000 [..............................] - ETA: 2:17 - loss: 0.3265 - acc: 0.8841"
          ],
          "name": "stdout"
        },
        {
          "output_type": "stream",
          "text": [
            "50000/50000 [==============================] - 149s 3ms/step - loss: 0.3617 - acc: 0.8702 - val_loss: 0.7207 - val_acc: 0.7920\n",
            "Epoch 48/50\n",
            "38656/50000 [======================>.......] - ETA: 32s - loss: 0.3524 - acc: 0.8730"
          ],
          "name": "stdout"
        },
        {
          "output_type": "stream",
          "text": [
            "50000/50000 [==============================] - 149s 3ms/step - loss: 0.3548 - acc: 0.8713 - val_loss: 0.6879 - val_acc: 0.7947\n",
            "Epoch 49/50\n",
            "50000/50000 [==============================] - 149s 3ms/step - loss: 0.3535 - acc: 0.8737 - val_loss: 0.6907 - val_acc: 0.7956\n",
            "Epoch 50/50\n",
            " 1536/50000 [..............................] - ETA: 2:16 - loss: 0.3620 - acc: 0.8730"
          ],
          "name": "stdout"
        },
        {
          "output_type": "stream",
          "text": [
            "50000/50000 [==============================] - 147s 3ms/step - loss: 0.3455 - acc: 0.8768 - val_loss: 0.6942 - val_acc: 0.7948\n"
          ],
          "name": "stdout"
        },
        {
          "output_type": "execute_result",
          "data": {
            "text/plain": [
              "<keras.callbacks.History at 0x7f44235a3eb8>"
            ]
          },
          "metadata": {
            "tags": []
          },
          "execution_count": 32
        }
      ]
    },
    {
      "metadata": {
        "id": "wJlND8lnQ1-D",
        "colab_type": "code",
        "colab": {
          "base_uri": "https://localhost:8080/",
          "height": 72
        },
        "outputId": "5af19b7c-11b7-4ca7-da91-1d87f12a4937"
      },
      "cell_type": "code",
      "source": [
        "# Test the model\n",
        "score = model.evaluate(x_test, y_test, verbose=1)\n",
        "print('Test loss:', score[0])\n",
        "print('Test accuracy:', score[1])"
      ],
      "execution_count": 33,
      "outputs": [
        {
          "output_type": "stream",
          "text": [
            "10000/10000 [==============================] - 13s 1ms/step\n",
            "Test loss: 0.6941735058069229\n",
            "Test accuracy: 0.7948\n"
          ],
          "name": "stdout"
        }
      ]
    }
  ]
}