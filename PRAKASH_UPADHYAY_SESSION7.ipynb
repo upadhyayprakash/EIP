{
  "nbformat": 4,
  "nbformat_minor": 0,
  "metadata": {
    "colab": {
      "name": "PRAKASH_UPADHYAY_SESSION7.ipynb",
      "version": "0.3.2",
      "provenance": [],
      "collapsed_sections": []
    },
    "kernelspec": {
      "name": "python3",
      "display_name": "Python 3"
    }
  },
  "cells": [
    {
      "cell_type": "markdown",
      "metadata": {
        "id": "view-in-github",
        "colab_type": "text"
      },
      "source": [
        "[View in Colaboratory](https://colab.research.google.com/github/upadhyayprakash/EIP/blob/master/PRAKASH_UPADHYAY_SESSION7.ipynb)"
      ]
    },
    {
      "metadata": {
        "id": "4a4t1haZuKvw",
        "colab_type": "code",
        "colab": {}
      },
      "cell_type": "code",
      "source": [
        "# Strategy and Approach\n",
        "\n",
        "# Problem Statement: Visually analyzing the output for Convolution Layers of any CNN networks. As an example we're using Inception Model(in tensorflow) and \n",
        "# converting it to KERAS based API.\n",
        "\n",
        "# Approach: Technique that we'll be using here is called as Feature Maximization or Optimization.\n",
        "\n",
        "# STEPS:\n",
        "#    1. Download Existing Inception Model\n",
        "#    2. Identifying the Convolution Layers Name\n",
        "#    3. Finding Input Images for Different Layers\n",
        "#    4. Plotting the Image and Respective Noise\n",
        "#    5. Optimizing the Image - At Different Layers\n",
        "#    6. Plotting the Images"
      ],
      "execution_count": 0,
      "outputs": []
    },
    {
      "metadata": {
        "id": "au73fs0cx2U1",
        "colab_type": "code",
        "colab": {}
      },
      "cell_type": "code",
      "source": [
        ""
      ],
      "execution_count": 0,
      "outputs": []
    }
  ]
}